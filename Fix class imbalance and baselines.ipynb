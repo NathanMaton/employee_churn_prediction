{
 "cells": [
  {
   "cell_type": "code",
   "execution_count": 60,
   "metadata": {},
   "outputs": [
    {
     "name": "stdout",
     "output_type": "stream",
     "text": [
      "The autoreload extension is already loaded. To reload it, use:\n",
      "  %reload_ext autoreload\n"
     ]
    }
   ],
   "source": [
    "import pandas as pd\n",
    "import numpy as np\n",
    "import matplotlib.pyplot as plt\n",
    "import seaborn as sns\n",
    "\n",
    "import warnings\n",
    "warnings.filterwarnings('ignore')\n",
    "\n",
    "from sklearn.neighbors import KNeighborsClassifier\n",
    "from sklearn.naive_bayes import MultinomialNB, GaussianNB\n",
    "from sklearn.linear_model import LogisticRegression\n",
    "from sklearn import svm\n",
    "from sklearn.ensemble import RandomForestClassifier\n",
    "\n",
    "from sklearn.model_selection import train_test_split, cross_validate\n",
    "from sklearn.metrics import accuracy_score, precision_score, recall_score, precision_recall_curve,f1_score, fbeta_score\n",
    "from imblearn.over_sampling import RandomOverSampler\n",
    "\n",
    "from collections import Counter\n",
    "\n",
    "from helper import clean_churn_df\n",
    "from helper import model_baseline\n",
    "\n",
    "from imblearn.over_sampling import SMOTE\n",
    "from imblearn.over_sampling import ADASYN\n",
    "\n",
    "plt.style.use('ggplot')\n",
    "%matplotlib inline\n",
    "\n",
    "\n",
    "%config InlineBackend.figure_format = 'svg'\n",
    "%load_ext autoreload\n",
    "%autoreload 2\n"
   ]
  },
  {
   "cell_type": "code",
   "execution_count": 61,
   "metadata": {},
   "outputs": [],
   "source": [
    "#import data\n",
    "churn_df = pd.read_csv('HR_comma_sep.csv')\n",
    "y = churn_df.left\n",
    "clean_churn = clean_churn_df(churn_df)"
   ]
  },
  {
   "cell_type": "code",
   "execution_count": 62,
   "metadata": {},
   "outputs": [
    {
     "data": {
      "text/plain": [
       "(0.7883983461339721,\n",
       " 0.9369950979592184,\n",
       " 0.6623067351371648,\n",
       " 0.7618968154913454,\n",
       " 0.9484125643222046,\n",
       " 0.9863323943430083)"
      ]
     },
     "execution_count": 62,
     "metadata": {},
     "output_type": "execute_result"
    }
   ],
   "source": [
    "#first baseline\n",
    "X_train, X_holdout, y_train, y_holdout = train_test_split(clean_churn, y, \\\n",
    "                                                            test_size=0.2, random_state=41)\n",
    "model_baseline(X_train,y_train)"
   ]
  },
  {
   "cell_type": "code",
   "execution_count": 63,
   "metadata": {},
   "outputs": [
    {
     "data": {
      "text/plain": [
       "(0.7751588183448426,\n",
       " 0.9368303586120321,\n",
       " 0.6545065845963108,\n",
       " 0.6817980444565711,\n",
       " 0.941643061566529,\n",
       " 0.9946948808944688)"
      ]
     },
     "execution_count": 63,
     "metadata": {},
     "output_type": "execute_result"
    }
   ],
   "source": [
    "#fix class imbalances\n",
    "\n",
    "#Random OverSampler\n",
    "ros = RandomOverSampler(random_state=0)\n",
    "X_resampled, y_resampled = ros.fit_sample(clean_churn,y)\n",
    "X_resampled_df = pd.DataFrame(X_resampled, columns=clean_churn.columns)\n",
    "X_train, X_holdout, y_train, y_holdout = train_test_split(X_resampled_df, y_resampled, \\\n",
    "                                                            test_size=0.2, random_state=41)\n",
    "model_baseline(X_train,y_train)"
   ]
  },
  {
   "cell_type": "code",
   "execution_count": 64,
   "metadata": {},
   "outputs": [
    {
     "data": {
      "text/plain": [
       "(0.7751588183448426,\n",
       " 0.9368303586120321,\n",
       " 0.6545065845963108,\n",
       " 0.6817980444565711,\n",
       " 0.941643061566529,\n",
       " 0.9945854866629688)"
      ]
     },
     "execution_count": 64,
     "metadata": {},
     "output_type": "execute_result"
    }
   ],
   "source": [
    "X_smoted, y_smoted = SMOTE(random_state=42).fit_sample(X_resampled_df,y_resampled)\n",
    "X_train, X_holdout, y_train, y_holdout = train_test_split(X_smoted, y_smoted, \\\n",
    "                                                            test_size=0.2, random_state=41)\n",
    "model_baseline(X_train,y_train)"
   ]
  },
  {
   "cell_type": "code",
   "execution_count": 65,
   "metadata": {},
   "outputs": [
    {
     "data": {
      "text/plain": [
       "(0.7751588183448426,\n",
       " 0.9368303586120321,\n",
       " 0.6545065845963108,\n",
       " 0.6817980444565711,\n",
       " 0.941643061566529,\n",
       " 0.9948589348445382)"
      ]
     },
     "execution_count": 65,
     "metadata": {},
     "output_type": "execute_result"
    }
   ],
   "source": [
    "X_adasyn, y_adasyn = ADASYN(random_state=42).fit_sample(X_resampled_df,y_resampled)\n",
    "X_train, X_holdout, y_train, y_holdout = train_test_split(X_adasyn, y_adasyn, \\\n",
    "                                                            test_size=0.2, random_state=41)\n",
    "\n",
    "model_baseline(X_train,y_train)"
   ]
  },
  {
   "cell_type": "code",
   "execution_count": null,
   "metadata": {},
   "outputs": [],
   "source": []
  }
 ],
 "metadata": {
  "kernelspec": {
   "display_name": "Python 3",
   "language": "python",
   "name": "python3"
  },
  "language_info": {
   "codemirror_mode": {
    "name": "ipython",
    "version": 3
   },
   "file_extension": ".py",
   "mimetype": "text/x-python",
   "name": "python",
   "nbconvert_exporter": "python",
   "pygments_lexer": "ipython3",
   "version": "3.7.2"
  }
 },
 "nbformat": 4,
 "nbformat_minor": 2
}
