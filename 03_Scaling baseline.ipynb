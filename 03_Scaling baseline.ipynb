{
 "cells": [
  {
   "cell_type": "code",
   "execution_count": 1,
   "metadata": {},
   "outputs": [],
   "source": [
    "import pandas as pd\n",
    "import numpy as np\n",
    "import matplotlib.pyplot as plt\n",
    "import seaborn as sns\n",
    "\n",
    "import warnings\n",
    "warnings.filterwarnings('ignore')\n",
    "\n",
    "from sklearn.neighbors import KNeighborsClassifier\n",
    "from sklearn.naive_bayes import MultinomialNB, GaussianNB\n",
    "from sklearn.linear_model import LogisticRegression\n",
    "from sklearn import svm\n",
    "from sklearn.ensemble import RandomForestClassifier\n",
    "\n",
    "from sklearn.preprocessing import StandardScaler\n",
    "\n",
    "\n",
    "from sklearn.model_selection import train_test_split, cross_validate\n",
    "from sklearn.metrics import accuracy_score, precision_score, recall_score, precision_recall_curve,f1_score, fbeta_score\n",
    "from imblearn.over_sampling import RandomOverSampler\n",
    "\n",
    "from collections import Counter\n",
    "\n",
    "from helper import clean_churn_df, model_baseline, model_baseline_no_cv, score_model_no_cv, score_model\n",
    "from helper import split_with_dupe_rows_in_train\n",
    "\n",
    "from imblearn.over_sampling import SMOTE\n",
    "from imblearn.over_sampling import ADASYN\n",
    "\n",
    "plt.style.use('ggplot')\n",
    "%matplotlib inline\n",
    "\n",
    "\n",
    "%config InlineBackend.figure_format = 'svg'\n",
    "%load_ext autoreload\n",
    "%autoreload 2\n"
   ]
  },
  {
   "cell_type": "code",
   "execution_count": 2,
   "metadata": {},
   "outputs": [],
   "source": [
    "churn_df = pd.read_csv('HR_comma_sep.csv')\n",
    "X_train, X_val, X_holdout, y_train, y_val, y_holdout = split_with_dupe_rows_in_train(churn_df)"
   ]
  },
  {
   "cell_type": "code",
   "execution_count": 7,
   "metadata": {},
   "outputs": [],
   "source": [
    "def standard_scale(X_train, X_val):\n",
    "    train_scaler = StandardScaler()\n",
    "    val_scaler = StandardScaler()\n",
    "    train_scaler.fit(X_train)\n",
    "    val_scaler.fit(X_val)\n",
    "    return train_scaler.transform(X_train), val_scaler.transform(X_val)"
   ]
  },
  {
   "cell_type": "code",
   "execution_count": 8,
   "metadata": {},
   "outputs": [],
   "source": [
    "X_train, X_val = standard_scale(X_train, X_val)"
   ]
  },
  {
   "cell_type": "code",
   "execution_count": 11,
   "metadata": {},
   "outputs": [],
   "source": [
    "def model_baseline_no_cv_reg(X_train, y_train, X_val, y_val):\n",
    "    lm2 = LogisticRegression() #all features\n",
    "    lm2_score = score_model_no_cv(lm2, X_train, y_train, X_val, y_val)\n",
    "\n",
    "    knn = KNeighborsClassifier(n_neighbors=5)\n",
    "    knn_score = score_model_no_cv(knn, X_train, y_train, X_val, y_val)\n",
    "\n",
    "    gnb = GaussianNB()\n",
    "    gnb_score = score_model_no_cv(gnb, X_train, y_train, X_val, y_val)\n",
    "\n",
    "    #mnb = MultinomialNB()\n",
    "    #mnb_score = score_model_no_cv(mnb, X_train, y_train, X_val, y_val)\n",
    "\n",
    "    svm_model = svm.SVC()\n",
    "    svm_score = score_model_no_cv(svm_model, X_train, y_train, X_val, y_val)\n",
    "\n",
    "    rf = RandomForestClassifier()\n",
    "    rf_score = score_model_no_cv(rf, X_train, y_train, X_val, y_val)\n",
    "\n",
    "    #maybe try XGB for fun?\n",
    "    #clf = XGBClassifier().fit(X_train, y_train)\n",
    "\n",
    "    return lm2_score, knn_score, gnb_score, svm_score, rf_score"
   ]
  },
  {
   "cell_type": "code",
   "execution_count": 12,
   "metadata": {},
   "outputs": [
    {
     "data": {
      "text/plain": [
       "(0.5439093484419264,\n",
       " 0.7883211678832117,\n",
       " 0.28071833648393196,\n",
       " 0.8307692307692308,\n",
       " 0.9265536723163842)"
      ]
     },
     "execution_count": 12,
     "metadata": {},
     "output_type": "execute_result"
    }
   ],
   "source": [
    "model_baseline_no_cv_reg(X_train, y_train, X_val, y_val)"
   ]
  },
  {
   "cell_type": "markdown",
   "metadata": {},
   "source": [
    "Best performer does worse, no scaling."
   ]
  },
  {
   "cell_type": "code",
   "execution_count": null,
   "metadata": {},
   "outputs": [],
   "source": []
  }
 ],
 "metadata": {
  "kernelspec": {
   "display_name": "Python 3",
   "language": "python",
   "name": "python3"
  },
  "language_info": {
   "codemirror_mode": {
    "name": "ipython",
    "version": 3
   },
   "file_extension": ".py",
   "mimetype": "text/x-python",
   "name": "python",
   "nbconvert_exporter": "python",
   "pygments_lexer": "ipython3",
   "version": "3.7.2"
  }
 },
 "nbformat": 4,
 "nbformat_minor": 2
}
