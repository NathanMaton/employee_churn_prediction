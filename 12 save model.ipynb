{
 "cells": [
  {
   "cell_type": "code",
   "execution_count": 1,
   "metadata": {},
   "outputs": [],
   "source": [
    "import pandas as pd\n",
    "import numpy as np\n",
    "import matplotlib.pyplot as plt\n",
    "import seaborn as sns\n",
    "\n",
    "import warnings\n",
    "warnings.filterwarnings('ignore')\n",
    "\n",
    "from sklearn.neighbors import KNeighborsClassifier\n",
    "from sklearn.naive_bayes import MultinomialNB, GaussianNB\n",
    "from sklearn.linear_model import LogisticRegression\n",
    "from sklearn import svm\n",
    "from sklearn.ensemble import RandomForestClassifier\n",
    "\n",
    "from sklearn.preprocessing import StandardScaler\n",
    "\n",
    "\n",
    "from sklearn.model_selection import train_test_split, cross_validate\n",
    "from sklearn.metrics import accuracy_score, precision_score, recall_score, precision_recall_curve \n",
    "from sklearn.metrics import confusion_matrix, f1_score, fbeta_score, confusion_matrix\n",
    "\n",
    "from collections import Counter\n",
    "\n",
    "from helper import clean_churn_df, model_baseline, model_baseline_no_cv, score_model_no_cv, score_model\n",
    "from helper import split_with_dupe_rows_in_train, rf_no_cv_iterx\n",
    "\n",
    "from imblearn.over_sampling import RandomOverSampler\n",
    "from imblearn.over_sampling import SMOTE\n",
    "from imblearn.over_sampling import ADASYN\n",
    "\n",
    "from sqlalchemy import create_engine\n",
    "\n",
    "plt.style.use('ggplot')\n",
    "%matplotlib inline\n",
    "\n",
    "\n",
    "%config InlineBackend.figure_format = 'svg'\n",
    "%load_ext autoreload\n",
    "%autoreload 2\n"
   ]
  },
  {
   "cell_type": "code",
   "execution_count": 2,
   "metadata": {},
   "outputs": [],
   "source": [
    "#churn_df = pd.read_csv('HR_comma_sep.csv')\n",
    "engine = create_engine('postgresql://nmp256@localhost:5432/churn')\n",
    "churn_df = pd.read_sql_query('select * from hr',con=engine)\n",
    "churn_df = churn_df.drop('index',axis=1)\n",
    "X_train, X_val, X_holdout, y_train, y_val, y_holdout = split_with_dupe_rows_in_train(churn_df)\n"
   ]
  },
  {
   "cell_type": "code",
   "execution_count": 3,
   "metadata": {},
   "outputs": [
    {
     "name": "stdout",
     "output_type": "stream",
     "text": [
      "kNN confusion matrix: \n",
      "\n",
      " [[1630    9]\n",
      " [  16  345]]\n"
     ]
    }
   ],
   "source": [
    "rf = RandomForestClassifier()\n",
    "rf.fit(X_train,y_train)\n",
    "print(\"kNN confusion matrix: \\n\\n\", confusion_matrix(y_val, rf.predict(X_val)))"
   ]
  },
  {
   "cell_type": "code",
   "execution_count": 6,
   "metadata": {},
   "outputs": [],
   "source": [
    "import pickle"
   ]
  },
  {
   "cell_type": "code",
   "execution_count": 15,
   "metadata": {},
   "outputs": [],
   "source": [
    "with open(\"rf.pkl\", \"wb\") as f:\n",
    "    pickle.dump(rf, f)"
   ]
  },
  {
   "cell_type": "code",
   "execution_count": 4,
   "metadata": {},
   "outputs": [],
   "source": [
    "del rf"
   ]
  },
  {
   "cell_type": "code",
   "execution_count": 7,
   "metadata": {},
   "outputs": [],
   "source": [
    "with open(\"rf.pkl\", \"rb\") as f:\n",
    "    rf_model = pickle.load(f)"
   ]
  },
  {
   "cell_type": "code",
   "execution_count": 8,
   "metadata": {},
   "outputs": [
    {
     "data": {
      "text/plain": [
       "Index(['satisfaction_level', 'last_evaluation', 'number_project',\n",
       "       'average_montly_hours', 'time_spend_company', 'Work_accident',\n",
       "       'promotion_last_5years', 'IT', 'RandD', 'accounting', 'hr',\n",
       "       'management', 'marketing', 'product_mng', 'sales', 'support',\n",
       "       'technical', 'high', 'low', 'medium'],\n",
       "      dtype='object')"
      ]
     },
     "execution_count": 8,
     "metadata": {},
     "output_type": "execute_result"
    }
   ],
   "source": [
    "X_val.columns"
   ]
  },
  {
   "cell_type": "code",
   "execution_count": 9,
   "metadata": {},
   "outputs": [],
   "source": [
    "feature_dict = {'satisfaction_level':.7, \n",
    "           'last_evaluation': .7, \n",
    "           'number_project': 4,\n",
    "           'average_montly_hours': 240, \n",
    "           'time_spend_company': 2, \n",
    "           'Work_accident': 1,\n",
    "           'promotion_last_5years': 0, \n",
    "           'IT': 0, \n",
    "           'RandD': 0, \n",
    "           'accounting':0, \n",
    "           'hr':0,\n",
    "           'management':0, \n",
    "           'marketing':0, \n",
    "           'product_mng':0, \n",
    "           'sales':0, \n",
    "           'support':0,\n",
    "           'technical':1, \n",
    "           'high':0,\n",
    "           'low':0, \n",
    "           'medium':1\n",
    "            }"
   ]
  },
  {
   "cell_type": "code",
   "execution_count": 10,
   "metadata": {},
   "outputs": [],
   "source": [
    "feat_dict2 = {'satisfaction_level':.44, \n",
    "           'last_evaluation': .5, \n",
    "           'number_project': 2,\n",
    "           'average_montly_hours': 156, \n",
    "           'time_spend_company': 3, \n",
    "           'Work_accident': 0,\n",
    "           'promotion_last_5years': 0, \n",
    "           'IT': 0, \n",
    "           'RandD': 0, \n",
    "           'accounting':0, \n",
    "           'hr':0,\n",
    "           'management':0, \n",
    "           'marketing':0, \n",
    "           'product_mng':0, \n",
    "           'sales':1, \n",
    "           'support':0,\n",
    "           'technical':0, \n",
    "           'high':0,\n",
    "           'low':0, \n",
    "           'medium':1\n",
    "            }"
   ]
  },
  {
   "cell_type": "code",
   "execution_count": 24,
   "metadata": {},
   "outputs": [
    {
     "data": {
      "text/plain": [
       "'1.0'"
      ]
     },
     "execution_count": 24,
     "metadata": {},
     "output_type": "execute_result"
    }
   ],
   "source": [
    "pred1 = [.7,.7,4,240,2,1,0,0,0,0,0,0,0,0,0,0,1,0,0,1]\n",
    "pred2 = X_val.iloc[5,:]\n",
    "\n",
    "probs = rf_model.predict_proba(np.array(X_val))\n",
    "str(list(rf_model.predict_proba(np.array(pred2).reshape(1, -1)).flat)[1])\n",
    "#rf_model.predict(np.array(pred1).reshape(1, -1))"
   ]
  },
  {
   "cell_type": "code",
   "execution_count": 18,
   "metadata": {},
   "outputs": [
    {
     "data": {
      "text/plain": [
       "array([[1. , 0. ],\n",
       "       [0.9, 0.1],\n",
       "       [1. , 0. ],\n",
       "       [1. , 0. ],\n",
       "       [1. , 0. ],\n",
       "       [0. , 1. ],\n",
       "       [0. , 1. ],\n",
       "       [0.9, 0.1],\n",
       "       [1. , 0. ],\n",
       "       [0.2, 0.8],\n",
       "       [1. , 0. ],\n",
       "       [1. , 0. ],\n",
       "       [0.2, 0.8],\n",
       "       [0.8, 0.2],\n",
       "       [1. , 0. ],\n",
       "       [1. , 0. ],\n",
       "       [0. , 1. ],\n",
       "       [0. , 1. ],\n",
       "       [1. , 0. ],\n",
       "       [1. , 0. ]])"
      ]
     },
     "execution_count": 18,
     "metadata": {},
     "output_type": "execute_result"
    }
   ],
   "source": [
    "probs[:20]"
   ]
  },
  {
   "cell_type": "code",
   "execution_count": null,
   "metadata": {},
   "outputs": [],
   "source": [
    "#intake features as dict\n",
    "#do a prediction\n",
    "#return input and result"
   ]
  },
  {
   "cell_type": "code",
   "execution_count": 42,
   "metadata": {},
   "outputs": [],
   "source": [
    "feature_names = ['satisfaction_level', 'last_evaluation', 'number_project',\n",
    "       'average_montly_hours', 'time_spend_company', 'Work_accident',\n",
    "       'promotion_last_5years', 'IT', 'RandD', 'accounting', 'hr',\n",
    "       'management', 'marketing', 'product_mng', 'sales', 'support',\n",
    "       'technical', 'high', 'low', 'medium']\n"
   ]
  },
  {
   "cell_type": "code",
   "execution_count": 43,
   "metadata": {},
   "outputs": [],
   "source": [
    "def make_api_prediction(feature_dict):\n",
    "    \"\"\"\n",
    "    Input:\n",
    "    feature_dict: a dictionary of the form {\"feature_name\": \"value\"}\n",
    "\n",
    "    Function makes sure the features are fed to the model in the same order the\n",
    "    model expects them.\n",
    "\n",
    "    Output:\n",
    "    Returns a dictionary with the following keys\n",
    "      all_probs: a list of dictionaries with keys 'name', 'prob'. This tells the\n",
    "                 probability of class 'name' appearing is the value in 'prob'\n",
    "      most_likely_class_name: string (name of the most likely class)\n",
    "      most_likely_class_prob: float (name of the most likely probability)\n",
    "    \"\"\"\n",
    "    x_input = [feature_dict[name] for name in feature_names]\n",
    "    x_input = [0 if val == '' else float(val) for val in x_input]\n",
    "\n",
    "    pred_probs = rf_model.predict_proba([x_input]).flat\n",
    "\n",
    "    probs = [{'name': rf_model.target_names[index], 'prob': pred_probs[index]}\n",
    "             for index in np.argsort(pred_probs)[::-1]]\n",
    "\n",
    "    response = {\n",
    "        'all_probs': probs,\n",
    "        'most_likely_class_name': probs[0]['name'],\n",
    "        'most_likely_class_prob': probs[0]['prob'],\n",
    "    }\n",
    "\n",
    "    return response"
   ]
  },
  {
   "cell_type": "code",
   "execution_count": 55,
   "metadata": {},
   "outputs": [],
   "source": [
    "x_input = [feature_dict[name] for name in feature_names]"
   ]
  },
  {
   "cell_type": "code",
   "execution_count": 56,
   "metadata": {},
   "outputs": [
    {
     "data": {
      "text/plain": [
       "[0.7, 0.7, 4, 240, 2, 1, 0, 0, 0, 0, 0, 0, 0, 0, 0, 0, 1, 0, 0, 1]"
      ]
     },
     "execution_count": 56,
     "metadata": {},
     "output_type": "execute_result"
    }
   ],
   "source": [
    "x_input"
   ]
  },
  {
   "cell_type": "code",
   "execution_count": 57,
   "metadata": {},
   "outputs": [],
   "source": [
    "x_input = [0 if val == '' else float(val) for val in x_input]\n"
   ]
  },
  {
   "cell_type": "code",
   "execution_count": 58,
   "metadata": {},
   "outputs": [
    {
     "data": {
      "text/plain": [
       "[0.7,\n",
       " 0.7,\n",
       " 4.0,\n",
       " 240.0,\n",
       " 2.0,\n",
       " 1.0,\n",
       " 0.0,\n",
       " 0.0,\n",
       " 0.0,\n",
       " 0.0,\n",
       " 0.0,\n",
       " 0.0,\n",
       " 0.0,\n",
       " 0.0,\n",
       " 0.0,\n",
       " 0.0,\n",
       " 1.0,\n",
       " 0.0,\n",
       " 0.0,\n",
       " 1.0]"
      ]
     },
     "execution_count": 58,
     "metadata": {},
     "output_type": "execute_result"
    }
   ],
   "source": [
    "x_input"
   ]
  },
  {
   "cell_type": "code",
   "execution_count": 65,
   "metadata": {},
   "outputs": [],
   "source": [
    "pred_probs = rf_model.predict_proba([x_input]).flat"
   ]
  },
  {
   "cell_type": "code",
   "execution_count": 77,
   "metadata": {},
   "outputs": [
    {
     "data": {
      "text/plain": [
       "0"
      ]
     },
     "execution_count": 77,
     "metadata": {},
     "output_type": "execute_result"
    }
   ],
   "source": [
    "rf_model.predict([x_input])[0]"
   ]
  },
  {
   "cell_type": "code",
   "execution_count": 71,
   "metadata": {},
   "outputs": [
    {
     "ename": "StopIteration",
     "evalue": "",
     "output_type": "error",
     "traceback": [
      "\u001b[0;31m---------------------------------------------------------------------------\u001b[0m",
      "\u001b[0;31mStopIteration\u001b[0m                             Traceback (most recent call last)",
      "\u001b[0;32m<ipython-input-71-028a6e24baba>\u001b[0m in \u001b[0;36m<module>\u001b[0;34m\u001b[0m\n\u001b[0;32m----> 1\u001b[0;31m \u001b[0mnext\u001b[0m\u001b[0;34m(\u001b[0m\u001b[0mpred_probs\u001b[0m\u001b[0;34m)\u001b[0m\u001b[0;34m\u001b[0m\u001b[0;34m\u001b[0m\u001b[0m\n\u001b[0m",
      "\u001b[0;31mStopIteration\u001b[0m: "
     ]
    }
   ],
   "source": [
    "next(pred_probs)\n",
    "#.ravel"
   ]
  },
  {
   "cell_type": "code",
   "execution_count": 66,
   "metadata": {},
   "outputs": [
    {
     "ename": "NameError",
     "evalue": "name 'lr_model' is not defined",
     "output_type": "error",
     "traceback": [
      "\u001b[0;31m---------------------------------------------------------------------------\u001b[0m",
      "\u001b[0;31mNameError\u001b[0m                                 Traceback (most recent call last)",
      "\u001b[0;32m<ipython-input-66-54b21a6a8ee6>\u001b[0m in \u001b[0;36m<module>\u001b[0;34m\u001b[0m\n\u001b[1;32m      1\u001b[0m probs = [{'name': lr_model.target_names[index], 'prob': pred_probs[index]}\n\u001b[0;32m----> 2\u001b[0;31m              for index in np.argsort(pred_probs)[::-1]]\n\u001b[0m",
      "\u001b[0;32m<ipython-input-66-54b21a6a8ee6>\u001b[0m in \u001b[0;36m<listcomp>\u001b[0;34m(.0)\u001b[0m\n\u001b[1;32m      1\u001b[0m probs = [{'name': lr_model.target_names[index], 'prob': pred_probs[index]}\n\u001b[0;32m----> 2\u001b[0;31m              for index in np.argsort(pred_probs)[::-1]]\n\u001b[0m",
      "\u001b[0;31mNameError\u001b[0m: name 'lr_model' is not defined"
     ]
    }
   ],
   "source": [
    "probs = [{'name': lr_model.target_names[index], 'prob': pred_probs[index]}\n",
    "             for index in np.argsort(pred_probs)[::-1]]"
   ]
  },
  {
   "cell_type": "code",
   "execution_count": 79,
   "metadata": {},
   "outputs": [
    {
     "name": "stdout",
     "output_type": "stream",
     "text": [
      "satisfaction_level\n",
      "last_evaluation\n",
      "number_project\n",
      "average_montly_hours\n",
      "time_spend_company\n",
      "Work_accident\n",
      "promotion_last_5years\n",
      "IT\n",
      "RandD\n",
      "accounting\n",
      "hr\n",
      "management\n",
      "marketing\n",
      "product_mng\n",
      "sales\n",
      "support\n",
      "technical\n",
      "high\n",
      "low\n",
      "medium\n"
     ]
    }
   ],
   "source": [
    "for f in feature_names:\n",
    "    print (f)"
   ]
  },
  {
   "cell_type": "code",
   "execution_count": 80,
   "metadata": {},
   "outputs": [
    {
     "data": {
      "text/plain": [
       "satisfaction_level         0.44\n",
       "last_evaluation            0.50\n",
       "number_project             2.00\n",
       "average_montly_hours     156.00\n",
       "time_spend_company         3.00\n",
       "Work_accident              0.00\n",
       "promotion_last_5years      0.00\n",
       "IT                         0.00\n",
       "RandD                      0.00\n",
       "accounting                 0.00\n",
       "hr                         0.00\n",
       "management                 0.00\n",
       "marketing                  0.00\n",
       "product_mng                0.00\n",
       "sales                      1.00\n",
       "support                    0.00\n",
       "technical                  0.00\n",
       "high                       0.00\n",
       "low                        0.00\n",
       "medium                     1.00\n",
       "Name: 923, dtype: float64"
      ]
     },
     "execution_count": 80,
     "metadata": {},
     "output_type": "execute_result"
    }
   ],
   "source": [
    "pred2"
   ]
  },
  {
   "cell_type": "code",
   "execution_count": null,
   "metadata": {},
   "outputs": [],
   "source": []
  }
 ],
 "metadata": {
  "kernelspec": {
   "display_name": "Python 3",
   "language": "python",
   "name": "python3"
  }
 },
 "nbformat": 4,
 "nbformat_minor": 2
}
